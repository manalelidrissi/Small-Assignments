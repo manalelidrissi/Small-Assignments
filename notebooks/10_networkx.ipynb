{
 "cells": [
  {
   "cell_type": "code",
   "execution_count": 1,
   "metadata": {},
   "outputs": [],
   "source": [
    "import networkx as nx\n",
    "import matplotlib.pyplot as plt"
   ]
  },
  {
   "cell_type": "markdown",
   "metadata": {},
   "source": [
    "# Working with (social) graphs: Networkx"
   ]
  },
  {
   "cell_type": "code",
   "execution_count": 2,
   "metadata": {},
   "outputs": [
    {
     "data": {
      "text/plain": [
       "'2.4'"
      ]
     },
     "execution_count": 2,
     "metadata": {},
     "output_type": "execute_result"
    }
   ],
   "source": [
    "nx.__version__\n"
   ]
  },
  {
   "cell_type": "markdown",
   "metadata": {},
   "source": [
    "## Creating a simple graph"
   ]
  },
  {
   "cell_type": "code",
   "execution_count": 3,
   "metadata": {},
   "outputs": [],
   "source": [
    "#create an empty graph\n",
    "g = nx.Graph()"
   ]
  },
  {
   "cell_type": "code",
   "execution_count": 4,
   "metadata": {},
   "outputs": [
    {
     "data": {
      "text/plain": [
       "<networkx.classes.graph.Graph at 0xa1fdecf50>"
      ]
     },
     "execution_count": 4,
     "metadata": {},
     "output_type": "execute_result"
    }
   ],
   "source": [
    "g"
   ]
  },
  {
   "cell_type": "code",
   "execution_count": 5,
   "metadata": {},
   "outputs": [
    {
     "data": {
      "text/plain": [
       "NodeView(('Alice', 'Bob', 'Carol', 'Danny'))"
      ]
     },
     "execution_count": 5,
     "metadata": {},
     "output_type": "execute_result"
    }
   ],
   "source": [
    "#add nodes to the graph:\n",
    "nodes = (['Alice', 'Bob', 'Carol', 'Danny'])\n",
    "g.add_nodes_from(nodes)\n",
    "g.nodes()"
   ]
  },
  {
   "cell_type": "code",
   "execution_count": 6,
   "metadata": {},
   "outputs": [
    {
     "data": {
      "text/plain": [
       "['Alice', 'Bob', 'Carol', 'Danny']"
      ]
     },
     "execution_count": 6,
     "metadata": {},
     "output_type": "execute_result"
    }
   ],
   "source": [
    "list(g.nodes())"
   ]
  },
  {
   "cell_type": "code",
   "execution_count": 7,
   "metadata": {},
   "outputs": [
    {
     "data": {
      "text/plain": [
       "EdgeView([('Alice', 'Carol'), ('Bob', 'Carol'), ('Bob', 'Danny')])"
      ]
     },
     "execution_count": 7,
     "metadata": {},
     "output_type": "execute_result"
    }
   ],
   "source": [
    "edges = [['Alice', 'Carol'], ['Bob', 'Carol'], ['Bob', 'Danny']]\n",
    "g.add_edges_from(edges)\n",
    "g.edges()"
   ]
  },
  {
   "cell_type": "code",
   "execution_count": 8,
   "metadata": {},
   "outputs": [],
   "source": [
    "g.add_edges_from([[\"Alice\", \"Xaver\"]])"
   ]
  },
  {
   "cell_type": "code",
   "execution_count": 9,
   "metadata": {},
   "outputs": [
    {
     "data": {
      "text/plain": [
       "NodeView(('Alice', 'Bob', 'Carol', 'Danny', 'Xaver'))"
      ]
     },
     "execution_count": 9,
     "metadata": {},
     "output_type": "execute_result"
    }
   ],
   "source": [
    "g.nodes()"
   ]
  },
  {
   "cell_type": "code",
   "execution_count": 10,
   "metadata": {},
   "outputs": [
    {
     "data": {
      "text/plain": [
       "NodeView(('Alice', 'Bob', 'Carol', 'Danny', 'Xaver', 1, 2, 3))"
      ]
     },
     "execution_count": 10,
     "metadata": {},
     "output_type": "execute_result"
    }
   ],
   "source": [
    "g.add_nodes_from([1,2,3])\n",
    "g.nodes()"
   ]
  },
  {
   "cell_type": "code",
   "execution_count": 11,
   "metadata": {},
   "outputs": [],
   "source": [
    "g.add_node('Paul')"
   ]
  },
  {
   "cell_type": "code",
   "execution_count": 12,
   "metadata": {},
   "outputs": [
    {
     "data": {
      "text/plain": [
       "EdgeView([('Alice', 'Carol'), ('Alice', 'Xaver'), ('Alice', 'Paul'), ('Bob', 'Carol'), ('Bob', 'Danny')])"
      ]
     },
     "execution_count": 12,
     "metadata": {},
     "output_type": "execute_result"
    }
   ],
   "source": [
    "g.add_edge('Alice','Paul')\n",
    "g.edges()"
   ]
  },
  {
   "cell_type": "code",
   "execution_count": 13,
   "metadata": {},
   "outputs": [
    {
     "data": {
      "text/plain": [
       "['Carol', 'Danny']"
      ]
     },
     "execution_count": 13,
     "metadata": {},
     "output_type": "execute_result"
    }
   ],
   "source": [
    "list(g.neighbors('Bob'))"
   ]
  },
  {
   "cell_type": "markdown",
   "metadata": {},
   "source": [
    "## Plotting a graph"
   ]
  },
  {
   "cell_type": "code",
   "execution_count": 14,
   "metadata": {},
   "outputs": [
    {
     "data": {
      "image/png": "[encoded data removed]",
      "text/plain": [
       "<Figure size 144x144 with 1 Axes>"
      ]
     },
     "metadata": {},
     "output_type": "display_data"
    }
   ],
   "source": [
    "plt.figure(figsize = (2, 2))\n",
    "nx.draw_circular(g, with_labels = False)\n",
    "plt.show()"
   ]
  },
  {
   "cell_type": "code",
   "execution_count": 15,
   "metadata": {},
   "outputs": [
    {
     "data": {
      "image/png": "[encoded data removed]",
      "text/plain": [
       "<Figure size 144x144 with 1 Axes>"
      ]
     },
     "metadata": {},
     "output_type": "display_data"
    }
   ],
   "source": [
    "plt.figure(figsize = (2, 2))\n",
    "nx.draw_spring(g, with_labels = True)\n",
    "plt.show()"
   ]
  },
  {
   "cell_type": "code",
   "execution_count": 16,
   "metadata": {},
   "outputs": [
    {
     "data": {
      "image/png": "[encoded data removed]",
      "text/plain": [
       "<Figure size 432x288 with 1 Axes>"
      ]
     },
     "metadata": {},
     "output_type": "display_data"
    }
   ],
   "source": [
    "colors = ['b', 'r', 'r', 'r','g','r','b','b','g']\n",
    "nx.draw(g, with_labels = True, node_color = colors)\n",
    "plt.show()"
   ]
  },
  {
   "cell_type": "code",
   "execution_count": 17,
   "metadata": {},
   "outputs": [
    {
     "data": {
      "image/png": "[encoded data removed]",
      "text/plain": [
       "<Figure size 432x288 with 1 Axes>"
      ]
     },
     "metadata": {},
     "output_type": "display_data"
    }
   ],
   "source": [
    "colors = col_agents = ['b', 'r', 'r', 'r','g','r','b','b','g']\n",
    "nx.draw(g, with_labels = True, node_color = colors, node_size=[1000,500,200,100,200,500,100,100,200])\n",
    "plt.show()"
   ]
  },
  {
   "cell_type": "markdown",
   "metadata": {},
   "source": [
    "## Node and edge attributes"
   ]
  },
  {
   "cell_type": "code",
   "execution_count": 18,
   "metadata": {},
   "outputs": [
    {
     "data": {
      "text/plain": [
       "NodeDataView({'Alice': {}, 'Bob': {}, 'Carol': {}, 'Danny': {}, 'Xaver': {}, 1: {}, 2: {}, 3: {}, 'Paul': {}, 'Emil': {'student': True}, 'Fred': {'student': True}})"
      ]
     },
     "execution_count": 18,
     "metadata": {},
     "output_type": "execute_result"
    }
   ],
   "source": [
    "nodes = ([\"Emil\", \"Fred\"])\n",
    "g.add_nodes_from(nodes, student=True)\n",
    "g.nodes().data()"
   ]
  },
  {
   "cell_type": "code",
   "execution_count": 19,
   "metadata": {},
   "outputs": [
    {
     "name": "stdout",
     "output_type": "stream",
     "text": [
      "[('Alice', 'Carol'), ('Alice', 'Xaver'), ('Alice', 'Paul'), ('Bob', 'Carol'), ('Bob', 'Danny'), ('Danny', 'Emil'), ('Danny', 'Fred')]\n",
      "[('Alice', 'Carol', {}), ('Alice', 'Xaver', {}), ('Alice', 'Paul', {}), ('Bob', 'Carol', {}), ('Bob', 'Danny', {}), ('Danny', 'Emil', {'weight': 2.0}), ('Danny', 'Fred', {'weight': 2.0})]\n"
     ]
    }
   ],
   "source": [
    "g.add_edges_from([(\"Danny\", \"Emil\"), (\"Danny\", \"Fred\")], weight=2.0)\n",
    "print (g.edges())\n",
    "print (g.edges.data())"
   ]
  },
  {
   "cell_type": "code",
   "execution_count": 20,
   "metadata": {},
   "outputs": [
    {
     "data": {
      "text/plain": [
       "['Carol', 'Xaver', 'Paul']"
      ]
     },
     "execution_count": 20,
     "metadata": {},
     "output_type": "execute_result"
    }
   ],
   "source": [
    "[elt for elt in g.neighbors('Alice')]"
   ]
  },
  {
   "cell_type": "code",
   "execution_count": 21,
   "metadata": {},
   "outputs": [],
   "source": [
    "G = nx.path_graph(4)  # or DiGraph, MultiGraph, MultiDiGraph, "
   ]
  },
  {
   "cell_type": "code",
   "execution_count": 22,
   "metadata": {},
   "outputs": [
    {
     "data": {
      "text/plain": [
       "[1]"
      ]
     },
     "execution_count": 22,
     "metadata": {},
     "output_type": "execute_result"
    }
   ],
   "source": [
    "[n for n in G.neighbors(0)]"
   ]
  },
  {
   "cell_type": "code",
   "execution_count": 23,
   "metadata": {},
   "outputs": [
    {
     "data": {
      "image/png": "[encoded data removed]",
      "text/plain": [
       "<Figure size 144x144 with 1 Axes>"
      ]
     },
     "metadata": {},
     "output_type": "display_data"
    }
   ],
   "source": [
    "plt.figure(figsize = (2, 2))\n",
    "nx.draw_circular(g, with_labels = True)\n",
    "plt.show()"
   ]
  },
  {
   "cell_type": "code",
   "execution_count": 24,
   "metadata": {},
   "outputs": [
    {
     "name": "stdout",
     "output_type": "stream",
     "text": [
      "2.0\n"
     ]
    }
   ],
   "source": [
    "print (g.edges[\"Danny\", \"Emil\"][\"weight\"])"
   ]
  },
  {
   "cell_type": "code",
   "execution_count": 25,
   "metadata": {},
   "outputs": [],
   "source": [
    "g.nodes()['Alice']['student']=True"
   ]
  },
  {
   "cell_type": "code",
   "execution_count": 26,
   "metadata": {},
   "outputs": [
    {
     "data": {
      "text/plain": [
       "NodeDataView({'Alice': {'student': True}, 'Bob': {}, 'Carol': {}, 'Danny': {}, 'Xaver': {}, 1: {}, 2: {}, 3: {}, 'Paul': {}, 'Emil': {'student': True}, 'Fred': {'student': True}})"
      ]
     },
     "execution_count": 26,
     "metadata": {},
     "output_type": "execute_result"
    }
   ],
   "source": [
    "g.nodes().data()"
   ]
  },
  {
   "cell_type": "markdown",
   "metadata": {},
   "source": [
    "## ...with numpy:"
   ]
  },
  {
   "cell_type": "code",
   "execution_count": 27,
   "metadata": {},
   "outputs": [
    {
     "data": {
      "text/plain": [
       "array([[0., 0., 1., 0., 1., 0., 0., 0., 1., 0., 0.],\n",
       "       [0., 0., 1., 1., 0., 0., 0., 0., 0., 0., 0.],\n",
       "       [1., 1., 0., 0., 0., 0., 0., 0., 0., 0., 0.],\n",
       "       [0., 1., 0., 0., 0., 0., 0., 0., 0., 2., 2.],\n",
       "       [1., 0., 0., 0., 0., 0., 0., 0., 0., 0., 0.],\n",
       "       [0., 0., 0., 0., 0., 0., 0., 0., 0., 0., 0.],\n",
       "       [0., 0., 0., 0., 0., 0., 0., 0., 0., 0., 0.],\n",
       "       [0., 0., 0., 0., 0., 0., 0., 0., 0., 0., 0.],\n",
       "       [1., 0., 0., 0., 0., 0., 0., 0., 0., 0., 0.],\n",
       "       [0., 0., 0., 2., 0., 0., 0., 0., 0., 0., 0.],\n",
       "       [0., 0., 0., 2., 0., 0., 0., 0., 0., 0., 0.]])"
      ]
     },
     "execution_count": 27,
     "metadata": {},
     "output_type": "execute_result"
    }
   ],
   "source": [
    "a = nx.to_numpy_array(g, weight='weight')\n",
    "a"
   ]
  },
  {
   "cell_type": "code",
   "execution_count": 28,
   "metadata": {},
   "outputs": [
    {
     "data": {
      "text/plain": [
       "EdgeView([(0, 2), (0, 4), (0, 8), (1, 2), (1, 3), (3, 9), (3, 10)])"
      ]
     },
     "execution_count": 28,
     "metadata": {},
     "output_type": "execute_result"
    }
   ],
   "source": [
    "g2 = nx.from_numpy_array(a)\n",
    "g2.edges()"
   ]
  },
  {
   "cell_type": "code",
   "execution_count": 29,
   "metadata": {},
   "outputs": [
    {
     "name": "stdout",
     "output_type": "stream",
     "text": [
      "{0: 'Alice', 1: 'Bob', 2: 'Carol', 3: 'Danny', 4: 'Xaver', 5: 1, 6: 2, 7: 3, 8: 'Paul', 9: 'Emil', 10: 'Fred'}\n"
     ]
    },
    {
     "data": {
      "text/plain": [
       "NodeView(('Alice', 'Bob', 'Carol', 'Danny', 'Xaver', 1, 2, 3, 'Paul', 'Emil', 'Fred'))"
      ]
     },
     "execution_count": 29,
     "metadata": {},
     "output_type": "execute_result"
    }
   ],
   "source": [
    "names = list(g.nodes())\n",
    "d = {i:names[i] for i in range(len(names))}\n",
    "print(d)\n",
    "g2 = nx.relabel.relabel_nodes(g2, d)\n",
    "g2.nodes()"
   ]
  },
  {
   "cell_type": "code",
   "execution_count": 30,
   "metadata": {},
   "outputs": [
    {
     "data": {
      "text/plain": [
       "EdgeDataView([('Alice', 'Carol', {'weight': 1.0}), ('Alice', 'Xaver', {'weight': 1.0}), ('Alice', 'Paul', {'weight': 1.0}), ('Bob', 'Carol', {'weight': 1.0}), ('Bob', 'Danny', {'weight': 1.0}), ('Danny', 'Emil', {'weight': 2.0}), ('Danny', 'Fred', {'weight': 2.0})])"
      ]
     },
     "execution_count": 30,
     "metadata": {},
     "output_type": "execute_result"
    }
   ],
   "source": [
    "g2.edges().data()"
   ]
  },
  {
   "cell_type": "markdown",
   "metadata": {},
   "source": [
    "## Loading a graph"
   ]
  },
  {
   "cell_type": "code",
   "execution_count": 31,
   "metadata": {},
   "outputs": [],
   "source": [
    "import pandas as pd\n",
    "import numpy as np"
   ]
  },
  {
   "cell_type": "code",
   "execution_count": 32,
   "metadata": {
    "scrolled": true
   },
   "outputs": [
    {
     "data": {
      "text/html": [
       "<div>\n",
       "<style scoped>\n",
       "    .dataframe tbody tr th:only-of-type {\n",
       "        vertical-align: middle;\n",
       "    }\n",
       "\n",
       "    .dataframe tbody tr th {\n",
       "        vertical-align: top;\n",
       "    }\n",
       "\n",
       "    .dataframe thead th {\n",
       "        text-align: right;\n",
       "    }\n",
       "</style>\n",
       "<table border=\"1\" class=\"dataframe\">\n",
       "  <thead>\n",
       "    <tr style=\"text-align: right;\">\n",
       "      <th></th>\n",
       "      <th>from</th>\n",
       "      <th>to</th>\n",
       "    </tr>\n",
       "  </thead>\n",
       "  <tbody>\n",
       "    <tr>\n",
       "      <th>0</th>\n",
       "      <td>1</td>\n",
       "      <td>10</td>\n",
       "    </tr>\n",
       "    <tr>\n",
       "      <th>1</th>\n",
       "      <td>1</td>\n",
       "      <td>11</td>\n",
       "    </tr>\n",
       "    <tr>\n",
       "      <th>2</th>\n",
       "      <td>1</td>\n",
       "      <td>12</td>\n",
       "    </tr>\n",
       "    <tr>\n",
       "      <th>3</th>\n",
       "      <td>1</td>\n",
       "      <td>13</td>\n",
       "    </tr>\n",
       "    <tr>\n",
       "      <th>4</th>\n",
       "      <td>1</td>\n",
       "      <td>14</td>\n",
       "    </tr>\n",
       "    <tr>\n",
       "      <th>...</th>\n",
       "      <td>...</td>\n",
       "      <td>...</td>\n",
       "    </tr>\n",
       "    <tr>\n",
       "      <th>2737</th>\n",
       "      <td>185</td>\n",
       "      <td>186</td>\n",
       "    </tr>\n",
       "    <tr>\n",
       "      <th>2738</th>\n",
       "      <td>187</td>\n",
       "      <td>188</td>\n",
       "    </tr>\n",
       "    <tr>\n",
       "      <th>2739</th>\n",
       "      <td>187</td>\n",
       "      <td>189</td>\n",
       "    </tr>\n",
       "    <tr>\n",
       "      <th>2740</th>\n",
       "      <td>188</td>\n",
       "      <td>189</td>\n",
       "    </tr>\n",
       "    <tr>\n",
       "      <th>2741</th>\n",
       "      <td>193</td>\n",
       "      <td>194</td>\n",
       "    </tr>\n",
       "  </tbody>\n",
       "</table>\n",
       "<p>2742 rows × 2 columns</p>\n",
       "</div>"
      ],
      "text/plain": [
       "      from   to\n",
       "0        1   10\n",
       "1        1   11\n",
       "2        1   12\n",
       "3        1   13\n",
       "4        1   14\n",
       "...    ...  ...\n",
       "2737   185  186\n",
       "2738   187  188\n",
       "2739   187  189\n",
       "2740   188  189\n",
       "2741   193  194\n",
       "\n",
       "[2742 rows x 2 columns]"
      ]
     },
     "execution_count": 32,
     "metadata": {},
     "output_type": "execute_result"
    }
   ],
   "source": [
    "#network from http://www.sociopatterns.org/datasets/kenyan-households-contact-network/\n",
    "df = pd.read_table ('jazz.tsv', header=None, names=[\"from\", \"to\"])\n",
    "df"
   ]
  },
  {
   "cell_type": "code",
   "execution_count": 33,
   "metadata": {},
   "outputs": [],
   "source": [
    "g = nx.Graph()\n",
    "for i in df.itertuples():\n",
    "    g.add_edge(int(i[1]), int(i[2]), weight=1.0)"
   ]
  },
  {
   "cell_type": "code",
   "execution_count": 34,
   "metadata": {},
   "outputs": [
    {
     "data": {
      "text/plain": [
       "198"
      ]
     },
     "execution_count": 34,
     "metadata": {},
     "output_type": "execute_result"
    }
   ],
   "source": [
    "len (g.nodes())"
   ]
  },
  {
   "cell_type": "code",
   "execution_count": 35,
   "metadata": {},
   "outputs": [
    {
     "data": {
      "text/plain": [
       "2742"
      ]
     },
     "execution_count": 35,
     "metadata": {},
     "output_type": "execute_result"
    }
   ],
   "source": [
    "len (g.edges())"
   ]
  },
  {
   "cell_type": "code",
   "execution_count": 36,
   "metadata": {},
   "outputs": [
    {
     "data": {
      "image/png": "[encoded data removed]",
      "text/plain": [
       "<Figure size 432x288 with 1 Axes>"
      ]
     },
     "metadata": {},
     "output_type": "display_data"
    }
   ],
   "source": [
    "nx.draw_spring(g, with_labels = True)\n",
    "plt.show()"
   ]
  },
  {
   "cell_type": "code",
   "execution_count": 37,
   "metadata": {},
   "outputs": [
    {
     "data": {
      "text/plain": [
       "[129, 131, 133, 137, 148, 166, 167, 176, 195]"
      ]
     },
     "execution_count": 37,
     "metadata": {},
     "output_type": "execute_result"
    }
   ],
   "source": [
    "list(g.neighbors(175))"
   ]
  },
  {
   "cell_type": "markdown",
   "metadata": {
    "collapsed": true
   },
   "source": [
    "## Graph statistics"
   ]
  },
  {
   "cell_type": "code",
   "execution_count": 38,
   "metadata": {
    "scrolled": true
   },
   "outputs": [
    {
     "name": "stdout",
     "output_type": "stream",
     "text": [
      "Number of nodes: 198\n",
      "Number of edges: 2742\n",
      "Average degree: 27.696969696969695\n",
      "Density: 0.14\n",
      "Diameter: 6\n",
      "Average clustering coefficient: 0.62\n",
      "Average shortest path length: 2.24\n"
     ]
    }
   ],
   "source": [
    "n = nx.number_of_nodes(g)\n",
    "print('Number of nodes:', n)\n",
    "print('Number of edges:', nx.number_of_edges(g))\n",
    "g_degree_distribution = list(dict(g.degree()).values())\n",
    "print('Average degree:', np.mean(g_degree_distribution))\n",
    "g_p = nx.density(g)\n",
    "print('Density:', round(g_p, 2))\n",
    "print('Diameter:', nx.diameter(g))\n",
    "g_c = np.mean(list(nx.clustering(g).values()))\n",
    "print('Average clustering coefficient:', round(g_c, 2))\n",
    "g_l = nx.average_shortest_path_length(g)\n",
    "print('Average shortest path length:', round(g_l, 2))"
   ]
  },
  {
   "cell_type": "code",
   "execution_count": 39,
   "metadata": {},
   "outputs": [
    {
     "data": {
      "text/plain": [
       "[23,\n",
       " 42,\n",
       " 40,\n",
       " 46,\n",
       " 60,\n",
       " 49,\n",
       " 49,\n",
       " 23,\n",
       " 20,\n",
       " 60,\n",
       " 56,\n",
       " 21,\n",
       " 75,\n",
       " 43,\n",
       " 10,\n",
       " 74,\n",
       " 45,\n",
       " 29,\n",
       " 43,\n",
       " 12,\n",
       " 23,\n",
       " 96,\n",
       " 20,\n",
       " 26,\n",
       " 17,\n",
       " 43,\n",
       " 41,\n",
       " 39,\n",
       " 31,\n",
       " 52,\n",
       " 100,\n",
       " 19,\n",
       " 8,\n",
       " 9,\n",
       " 8,\n",
       " 24,\n",
       " 48,\n",
       " 38,\n",
       " 11,\n",
       " 29,\n",
       " 25,\n",
       " 55,\n",
       " 48,\n",
       " 41,\n",
       " 51,\n",
       " 46,\n",
       " 30,\n",
       " 39,\n",
       " 40,\n",
       " 34,\n",
       " 34,\n",
       " 37,\n",
       " 32,\n",
       " 31,\n",
       " 32,\n",
       " 33,\n",
       " 34,\n",
       " 33,\n",
       " 14,\n",
       " 14,\n",
       " 18,\n",
       " 27,\n",
       " 39,\n",
       " 44,\n",
       " 31,\n",
       " 29,\n",
       " 23,\n",
       " 35,\n",
       " 23,\n",
       " 27,\n",
       " 23,\n",
       " 59,\n",
       " 31,\n",
       " 53,\n",
       " 27,\n",
       " 55,\n",
       " 28,\n",
       " 46,\n",
       " 13,\n",
       " 21,\n",
       " 37,\n",
       " 20,\n",
       " 36,\n",
       " 6,\n",
       " 25,\n",
       " 46,\n",
       " 39,\n",
       " 24,\n",
       " 42,\n",
       " 37,\n",
       " 56,\n",
       " 45,\n",
       " 36,\n",
       " 57,\n",
       " 27,\n",
       " 26,\n",
       " 42,\n",
       " 25,\n",
       " 32,\n",
       " 33,\n",
       " 53,\n",
       " 62,\n",
       " 9,\n",
       " 59,\n",
       " 27,\n",
       " 26,\n",
       " 41,\n",
       " 28,\n",
       " 30,\n",
       " 24,\n",
       " 16,\n",
       " 10,\n",
       " 39,\n",
       " 19,\n",
       " 29,\n",
       " 12,\n",
       " 8,\n",
       " 17,\n",
       " 31,\n",
       " 18,\n",
       " 13,\n",
       " 14,\n",
       " 20,\n",
       " 20,\n",
       " 13,\n",
       " 41,\n",
       " 3,\n",
       " 15,\n",
       " 13,\n",
       " 52,\n",
       " 20,\n",
       " 46,\n",
       " 54,\n",
       " 4,\n",
       " 7,\n",
       " 45,\n",
       " 40,\n",
       " 5,\n",
       " 3,\n",
       " 4,\n",
       " 6,\n",
       " 5,\n",
       " 14,\n",
       " 5,\n",
       " 6,\n",
       " 6,\n",
       " 16,\n",
       " 25,\n",
       " 31,\n",
       " 39,\n",
       " 13,\n",
       " 28,\n",
       " 31,\n",
       " 19,\n",
       " 16,\n",
       " 40,\n",
       " 33,\n",
       " 16,\n",
       " 17,\n",
       " 40,\n",
       " 31,\n",
       " 17,\n",
       " 12,\n",
       " 22,\n",
       " 6,\n",
       " 3,\n",
       " 2,\n",
       " 29,\n",
       " 19,\n",
       " 19,\n",
       " 23,\n",
       " 22,\n",
       " 23,\n",
       " 24,\n",
       " 24,\n",
       " 31,\n",
       " 17,\n",
       " 20,\n",
       " 18,\n",
       " 20,\n",
       " 25,\n",
       " 1,\n",
       " 7,\n",
       " 7,\n",
       " 19,\n",
       " 19,\n",
       " 23,\n",
       " 13,\n",
       " 2,\n",
       " 18,\n",
       " 1,\n",
       " 5,\n",
       " 2,\n",
       " 4,\n",
       " 1,\n",
       " 9,\n",
       " 1,\n",
       " 1]"
      ]
     },
     "execution_count": 39,
     "metadata": {},
     "output_type": "execute_result"
    }
   ],
   "source": [
    "list(dict(g.degree()).values())"
   ]
  },
  {
   "cell_type": "code",
   "execution_count": 40,
   "metadata": {},
   "outputs": [
    {
     "data": {
      "text/plain": [
       "[163, 90, 7, 1]"
      ]
     },
     "execution_count": 40,
     "metadata": {},
     "output_type": "execute_result"
    }
   ],
   "source": [
    "nx.shortest_path (g, 163, 1)"
   ]
  },
  {
   "cell_type": "code",
   "execution_count": 41,
   "metadata": {},
   "outputs": [
    {
     "data": {
      "text/plain": [
       "[[163, 90, 7, 1],\n",
       " [163, 93, 7, 1],\n",
       " [163, 117, 7, 1],\n",
       " [163, 90, 11, 1],\n",
       " [163, 117, 11, 1],\n",
       " [163, 90, 13, 1],\n",
       " [163, 93, 13, 1],\n",
       " [163, 90, 18, 1],\n",
       " [163, 93, 18, 1],\n",
       " [163, 117, 18, 1],\n",
       " [163, 90, 20, 1],\n",
       " [163, 93, 20, 1],\n",
       " [163, 117, 20, 1],\n",
       " [163, 90, 23, 1],\n",
       " [163, 93, 23, 1],\n",
       " [163, 117, 23, 1],\n",
       " [163, 90, 24, 1],\n",
       " [163, 117, 24, 1],\n",
       " [163, 93, 10, 1],\n",
       " [163, 93, 12, 1],\n",
       " [163, 93, 14, 1],\n",
       " [163, 93, 15, 1],\n",
       " [163, 93, 16, 1],\n",
       " [163, 93, 19, 1],\n",
       " [163, 93, 22, 1]]"
      ]
     },
     "execution_count": 41,
     "metadata": {},
     "output_type": "execute_result"
    }
   ],
   "source": [
    "list(nx.all_shortest_paths (g, 163, 1))"
   ]
  },
  {
   "cell_type": "markdown",
   "metadata": {},
   "source": [
    "## Centrality"
   ]
  },
  {
   "cell_type": "code",
   "execution_count": 42,
   "metadata": {
    "scrolled": true
   },
   "outputs": [
    {
     "data": {
      "text/plain": [
       "{1: 0.11675126903553298,\n",
       " 10: 0.21319796954314718,\n",
       " 11: 0.20304568527918782,\n",
       " 12: 0.23350253807106597,\n",
       " 13: 0.3045685279187817,\n",
       " 14: 0.24873096446700504,\n",
       " 15: 0.24873096446700504,\n",
       " 16: 0.11675126903553298,\n",
       " 17: 0.10152284263959391,\n",
       " 18: 0.3045685279187817,\n",
       " 19: 0.2842639593908629,\n",
       " 2: 0.10659898477157359,\n",
       " 20: 0.38071065989847713,\n",
       " 21: 0.2182741116751269,\n",
       " 22: 0.050761421319796954,\n",
       " 23: 0.3756345177664974,\n",
       " 24: 0.22842639593908629,\n",
       " 3: 0.14720812182741116,\n",
       " 4: 0.2182741116751269,\n",
       " 5: 0.06091370558375634,\n",
       " 6: 0.11675126903553298,\n",
       " 7: 0.4873096446700507,\n",
       " 8: 0.10152284263959391,\n",
       " 9: 0.13197969543147206,\n",
       " 120: 0.08629441624365482,\n",
       " 121: 0.2182741116751269,\n",
       " 122: 0.2081218274111675,\n",
       " 123: 0.1979695431472081,\n",
       " 124: 0.15736040609137056,\n",
       " 125: 0.2639593908629441,\n",
       " 67: 0.5076142131979695,\n",
       " 130: 0.09644670050761421,\n",
       " 145: 0.04060913705583756,\n",
       " 146: 0.04568527918781726,\n",
       " 147: 0.04060913705583756,\n",
       " 148: 0.12182741116751268,\n",
       " 149: 0.24365482233502536,\n",
       " 150: 0.19289340101522842,\n",
       " 157: 0.055837563451776644,\n",
       " 159: 0.14720812182741116,\n",
       " 160: 0.12690355329949238,\n",
       " 101: 0.27918781725888325,\n",
       " 112: 0.24365482233502536,\n",
       " 128: 0.2081218274111675,\n",
       " 133: 0.25888324873096447,\n",
       " 137: 0.23350253807106597,\n",
       " 152: 0.15228426395939085,\n",
       " 164: 0.1979695431472081,\n",
       " 165: 0.20304568527918782,\n",
       " 166: 0.17258883248730963,\n",
       " 167: 0.17258883248730963,\n",
       " 168: 0.1878172588832487,\n",
       " 169: 0.16243654822335024,\n",
       " 170: 0.15736040609137056,\n",
       " 171: 0.16243654822335024,\n",
       " 172: 0.16751269035532992,\n",
       " 173: 0.17258883248730963,\n",
       " 174: 0.16751269035532992,\n",
       " 177: 0.07106598984771573,\n",
       " 178: 0.07106598984771573,\n",
       " 179: 0.09137055837563451,\n",
       " 153: 0.13705583756345177,\n",
       " 155: 0.1979695431472081,\n",
       " 100: 0.22335025380710657,\n",
       " 102: 0.15736040609137056,\n",
       " 103: 0.14720812182741116,\n",
       " 104: 0.11675126903553298,\n",
       " 105: 0.17766497461928932,\n",
       " 106: 0.11675126903553298,\n",
       " 107: 0.13705583756345177,\n",
       " 108: 0.11675126903553298,\n",
       " 109: 0.299492385786802,\n",
       " 110: 0.15736040609137056,\n",
       " 111: 0.26903553299492383,\n",
       " 116: 0.13705583756345177,\n",
       " 117: 0.27918781725888325,\n",
       " 118: 0.14213197969543145,\n",
       " 119: 0.23350253807106597,\n",
       " 127: 0.06598984771573603,\n",
       " 138: 0.10659898477157359,\n",
       " 139: 0.1878172588832487,\n",
       " 140: 0.10152284263959391,\n",
       " 154: 0.18274111675126903,\n",
       " 191: 0.03045685279187817,\n",
       " 26: 0.12690355329949238,\n",
       " 27: 0.23350253807106597,\n",
       " 28: 0.1979695431472081,\n",
       " 48: 0.12182741116751268,\n",
       " 54: 0.21319796954314718,\n",
       " 55: 0.1878172588832487,\n",
       " 74: 0.2842639593908629,\n",
       " 75: 0.22842639593908629,\n",
       " 76: 0.18274111675126903,\n",
       " 80: 0.2893401015228426,\n",
       " 81: 0.13705583756345177,\n",
       " 83: 0.13197969543147206,\n",
       " 84: 0.21319796954314718,\n",
       " 85: 0.12690355329949238,\n",
       " 86: 0.16243654822335024,\n",
       " 87: 0.16751269035532992,\n",
       " 89: 0.26903553299492383,\n",
       " 90: 0.3147208121827411,\n",
       " 92: 0.04568527918781726,\n",
       " 93: 0.299492385786802,\n",
       " 95: 0.13705583756345177,\n",
       " 96: 0.13197969543147206,\n",
       " 97: 0.2081218274111675,\n",
       " 98: 0.14213197969543145,\n",
       " 91: 0.15228426395939085,\n",
       " 94: 0.12182741116751268,\n",
       " 134: 0.08121827411167512,\n",
       " 192: 0.050761421319796954,\n",
       " 114: 0.1979695431472081,\n",
       " 158: 0.09644670050761421,\n",
       " 88: 0.14720812182741116,\n",
       " 187: 0.06091370558375634,\n",
       " 188: 0.04060913705583756,\n",
       " 189: 0.08629441624365482,\n",
       " 56: 0.15736040609137056,\n",
       " 135: 0.09137055837563451,\n",
       " 176: 0.06598984771573603,\n",
       " 193: 0.07106598984771573,\n",
       " 126: 0.10152284263959391,\n",
       " 131: 0.10152284263959391,\n",
       " 132: 0.06598984771573603,\n",
       " 31: 0.2081218274111675,\n",
       " 25: 0.015228426395939085,\n",
       " 115: 0.07614213197969542,\n",
       " 144: 0.06598984771573603,\n",
       " 62: 0.2639593908629441,\n",
       " 113: 0.10152284263959391,\n",
       " 35: 0.23350253807106597,\n",
       " 70: 0.27411167512690354,\n",
       " 29: 0.02030456852791878,\n",
       " 30: 0.035532994923857864,\n",
       " 32: 0.22842639593908629,\n",
       " 33: 0.20304568527918782,\n",
       " 143: 0.025380710659898477,\n",
       " 78: 0.015228426395939085,\n",
       " 79: 0.02030456852791878,\n",
       " 141: 0.03045685279187817,\n",
       " 142: 0.025380710659898477,\n",
       " 161: 0.07106598984771573,\n",
       " 180: 0.025380710659898477,\n",
       " 183: 0.03045685279187817,\n",
       " 184: 0.03045685279187817,\n",
       " 34: 0.08121827411167512,\n",
       " 36: 0.12690355329949238,\n",
       " 37: 0.15736040609137056,\n",
       " 42: 0.1979695431472081,\n",
       " 50: 0.06598984771573603,\n",
       " 51: 0.14213197969543145,\n",
       " 52: 0.15736040609137056,\n",
       " 53: 0.09644670050761421,\n",
       " 58: 0.08121827411167512,\n",
       " 60: 0.20304568527918782,\n",
       " 61: 0.16751269035532992,\n",
       " 64: 0.08121827411167512,\n",
       " 65: 0.08629441624365482,\n",
       " 66: 0.20304568527918782,\n",
       " 68: 0.15736040609137056,\n",
       " 69: 0.08629441624365482,\n",
       " 72: 0.06091370558375634,\n",
       " 156: 0.11167512690355329,\n",
       " 181: 0.03045685279187817,\n",
       " 190: 0.015228426395939085,\n",
       " 196: 0.01015228426395939,\n",
       " 38: 0.14720812182741116,\n",
       " 39: 0.09644670050761421,\n",
       " 40: 0.09644670050761421,\n",
       " 41: 0.11675126903553298,\n",
       " 43: 0.11167512690355329,\n",
       " 44: 0.11675126903553298,\n",
       " 45: 0.12182741116751268,\n",
       " 46: 0.12182741116751268,\n",
       " 47: 0.15736040609137056,\n",
       " 57: 0.08629441624365482,\n",
       " 59: 0.10152284263959391,\n",
       " 63: 0.09137055837563451,\n",
       " 71: 0.10152284263959391,\n",
       " 73: 0.12690355329949238,\n",
       " 49: 0.005076142131979695,\n",
       " 185: 0.035532994923857864,\n",
       " 186: 0.035532994923857864,\n",
       " 129: 0.09644670050761421,\n",
       " 136: 0.09644670050761421,\n",
       " 82: 0.11675126903553298,\n",
       " 99: 0.06598984771573603,\n",
       " 151: 0.01015228426395939,\n",
       " 194: 0.09137055837563451,\n",
       " 197: 0.005076142131979695,\n",
       " 182: 0.025380710659898477,\n",
       " 77: 0.01015228426395939,\n",
       " 163: 0.02030456852791878,\n",
       " 198: 0.005076142131979695,\n",
       " 175: 0.04568527918781726,\n",
       " 162: 0.005076142131979695,\n",
       " 195: 0.005076142131979695}"
      ]
     },
     "execution_count": 42,
     "metadata": {},
     "output_type": "execute_result"
    }
   ],
   "source": [
    "nx.degree_centrality(g)"
   ]
  },
  {
   "cell_type": "code",
   "execution_count": 43,
   "metadata": {
    "scrolled": true
   },
   "outputs": [
    {
     "data": {
      "text/plain": [
       "{1: 0.004054274378673574,\n",
       " 10: 0.006862707924183666,\n",
       " 11: 0.006348121073056098,\n",
       " 12: 0.007042873280094578,\n",
       " 13: 0.009252881141315877,\n",
       " 14: 0.007526997296145854,\n",
       " 15: 0.007525209268080119,\n",
       " 16: 0.004096604727493827,\n",
       " 17: 0.003948478855530476,\n",
       " 18: 0.009060762038158074,\n",
       " 19: 0.008477095263097457,\n",
       " 2: 0.003629854939089149,\n",
       " 20: 0.011216290798180817,\n",
       " 21: 0.006771035514800392,\n",
       " 22: 0.0023280777780608723,\n",
       " 23: 0.011461609126898618,\n",
       " 24: 0.007112614875989314,\n",
       " 3: 0.005209316576796491,\n",
       " 4: 0.006771035514800392,\n",
       " 5: 0.0025503283665934537,\n",
       " 6: 0.00402055427111106,\n",
       " 7: 0.0145479567746197,\n",
       " 8: 0.0036687876924427435,\n",
       " 9: 0.004665455240792083,\n",
       " 120: 0.0031520212674609684,\n",
       " 121: 0.006692238260507386,\n",
       " 122: 0.006913305548546279,\n",
       " 123: 0.006565244504702942,\n",
       " 124: 0.005251047446745982,\n",
       " 125: 0.008412364075460537,\n",
       " 67: 0.016575536080634494,\n",
       " 130: 0.0039476268042185425,\n",
       " 145: 0.0020950809239109044,\n",
       " 146: 0.0022570247261652424,\n",
       " 147: 0.0020950809239109044,\n",
       " 148: 0.004688249397420556,\n",
       " 149: 0.007640235675844947,\n",
       " 150: 0.00631218401067094,\n",
       " 157: 0.0023879577544964124,\n",
       " 159: 0.004894388491172039,\n",
       " 160: 0.004210421981827043,\n",
       " 101: 0.008635875478613785,\n",
       " 112: 0.007417762278419418,\n",
       " 128: 0.006602295541481302,\n",
       " 133: 0.00835988295439661,\n",
       " 137: 0.007575562986454875,\n",
       " 152: 0.005094904155221335,\n",
       " 164: 0.006187022175388886,\n",
       " 165: 0.006353308134139182,\n",
       " 166: 0.00563735206119504,\n",
       " 167: 0.00563735206119504,\n",
       " 168: 0.005923309746784869,\n",
       " 169: 0.0051712474433831986,\n",
       " 170: 0.004997314876424075,\n",
       " 171: 0.005099934617903047,\n",
       " 172: 0.005241291599434192,\n",
       " 173: 0.005384810284832563,\n",
       " 174: 0.005218290543434385,\n",
       " 177: 0.002686997540942187,\n",
       " 178: 0.002686997540942187,\n",
       " 179: 0.0033146077891508217,\n",
       " 153: 0.004577950906535503,\n",
       " 155: 0.006389771232448524,\n",
       " 100: 0.007039640730620135,\n",
       " 102: 0.005123284296041967,\n",
       " 103: 0.004897399291579315,\n",
       " 104: 0.004031651994062309,\n",
       " 105: 0.005813065196573222,\n",
       " 106: 0.003973538057801179,\n",
       " 107: 0.004507714284570028,\n",
       " 108: 0.004060522924922535,\n",
       " 109: 0.009353972584802419,\n",
       " 110: 0.005276997424406297,\n",
       " 111: 0.008296601127589976,\n",
       " 116: 0.004507714284570028,\n",
       " 117: 0.008975775575404313,\n",
       " 118: 0.0046523620797244486,\n",
       " 119: 0.007420725936826817,\n",
       " 127: 0.0027417873474577877,\n",
       " 138: 0.003727482425943799,\n",
       " 139: 0.006359509616278726,\n",
       " 140: 0.0035445424896286158,\n",
       " 154: 0.006511165878485806,\n",
       " 191: 0.0015972538112302528,\n",
       " 26: 0.004562511150487437,\n",
       " 27: 0.007553333777609052,\n",
       " 28: 0.00664985581119252,\n",
       " 48: 0.004262038166422039,\n",
       " 54: 0.006853668781972715,\n",
       " 55: 0.006123972217874185,\n",
       " 74: 0.008720624173633184,\n",
       " 75: 0.007269525550288361,\n",
       " 76: 0.005769423221722649,\n",
       " 80: 0.00894082243128886,\n",
       " 81: 0.0046272106151376315,\n",
       " 83: 0.004423348477853627,\n",
       " 84: 0.006997551104032986,\n",
       " 85: 0.004258381670782646,\n",
       " 86: 0.005231178164979791,\n",
       " 87: 0.005417937904380483,\n",
       " 89: 0.00833528453274916,\n",
       " 90: 0.010061843254914158,\n",
       " 92: 0.002043736850034802,\n",
       " 93: 0.009685958552879733,\n",
       " 95: 0.004501395501095269,\n",
       " 96: 0.00435713160876885,\n",
       " 97: 0.006663400186654289,\n",
       " 98: 0.004772910469171146,\n",
       " 91: 0.005278284142986988,\n",
       " 94: 0.004238721017551923,\n",
       " 134: 0.003267377812444332,\n",
       " 192: 0.002230558945829169,\n",
       " 114: 0.006328241370932541,\n",
       " 158: 0.003313426427262777,\n",
       " 88: 0.004976395593946318,\n",
       " 187: 0.002532659701398995,\n",
       " 188: 0.001936999547454217,\n",
       " 189: 0.0032962617102189353,\n",
       " 56: 0.0058819195856570725,\n",
       " 135: 0.0034707310931745236,\n",
       " 176: 0.0029034987760748034,\n",
       " 193: 0.002834743513500792,\n",
       " 126: 0.0039300594316266065,\n",
       " 131: 0.004233392280075034,\n",
       " 132: 0.00290568553675987,\n",
       " 31: 0.009258128446924271,\n",
       " 25: 0.0011971697579319885,\n",
       " 115: 0.0035760683397384678,\n",
       " 144: 0.0026001387765587727,\n",
       " 62: 0.0095764138876654,\n",
       " 113: 0.0035788170819534308,\n",
       " 35: 0.009369996338512732,\n",
       " 70: 0.010865352302279195,\n",
       " 29: 0.001758145371355142,\n",
       " 30: 0.0036578187981131547,\n",
       " 32: 0.009941570970114031,\n",
       " 33: 0.008295633443323468,\n",
       " 143: 0.0022560905684677213,\n",
       " 78: 0.0029493919318755563,\n",
       " 79: 0.0035297951432052685,\n",
       " 141: 0.002239122936709929,\n",
       " 142: 0.0020588018326026494,\n",
       " 161: 0.003231001144246547,\n",
       " 180: 0.0021764253877864467,\n",
       " 183: 0.001943552550473798,\n",
       " 184: 0.001943552550473798,\n",
       " 34: 0.0036346422024116105,\n",
       " 36: 0.005727188598140396,\n",
       " 37: 0.006255073706698526,\n",
       " 42: 0.007597337581601221,\n",
       " 50: 0.003067818351759545,\n",
       " 51: 0.005743071813527387,\n",
       " 52: 0.006188534716455822,\n",
       " 53: 0.004269724938631579,\n",
       " 58: 0.0035344013789427686,\n",
       " 60: 0.007884477889465558,\n",
       " 61: 0.006675501800816414,\n",
       " 64: 0.003563358798558927,\n",
       " 65: 0.0037238221071882005,\n",
       " 66: 0.007815597527885035,\n",
       " 68: 0.006179263104173556,\n",
       " 69: 0.0037317998383417346,\n",
       " 72: 0.0030138227653476956,\n",
       " 156: 0.00449159131839506,\n",
       " 181: 0.002390364475146725,\n",
       " 190: 0.0016615495488279076,\n",
       " 196: 0.0011330062156612412,\n",
       " 38: 0.005889893230253307,\n",
       " 39: 0.00413701470966276,\n",
       " 40: 0.004128658176982621,\n",
       " 41: 0.005074286142316747,\n",
       " 43: 0.0048310243656695786,\n",
       " 44: 0.004817624908230971,\n",
       " 45: 0.005009660805906925,\n",
       " 46: 0.004959554790723512,\n",
       " 47: 0.006108835718268442,\n",
       " 57: 0.003738093762044833,\n",
       " 59: 0.0041462686134846796,\n",
       " 63: 0.003966127233700561,\n",
       " 71: 0.005206489268661993,\n",
       " 73: 0.005060497291771302,\n",
       " 49: 0.000930762160989477,\n",
       " 185: 0.0019764482680833754,\n",
       " 186: 0.0019764482680833754,\n",
       " 129: 0.0038503708116761235,\n",
       " 136: 0.003720937598263306,\n",
       " 82: 0.004216345526168459,\n",
       " 99: 0.0025934899447956255,\n",
       " 151: 0.0010428024347116616,\n",
       " 194: 0.0033208589040381407,\n",
       " 197: 0.0009286422802741872,\n",
       " 182: 0.002909215872580084,\n",
       " 77: 0.002344272739367306,\n",
       " 163: 0.0022183409636756315,\n",
       " 198: 0.0009602062065457989,\n",
       " 175: 0.002903663897202962,\n",
       " 162: 0.001228958814881698,\n",
       " 195: 0.0010317894929337212}"
      ]
     },
     "execution_count": 43,
     "metadata": {},
     "output_type": "execute_result"
    }
   ],
   "source": [
    "nx.pagerank(g)"
   ]
  },
  {
   "cell_type": "code",
   "execution_count": 44,
   "metadata": {},
   "outputs": [
    {
     "data": {
      "text/plain": [
       "{1: 0.000851342222753862,\n",
       " 10: 0.013289336862047309,\n",
       " 11: 0.004313951504203767,\n",
       " 12: 0.0034177056601804854,\n",
       " 13: 0.01407907557385525,\n",
       " 14: 0.004380981675579163,\n",
       " 15: 0.004792559595517549,\n",
       " 16: 0.002018648490290283,\n",
       " 17: 0.0018039443649464706,\n",
       " 18: 0.009455168971331605,\n",
       " 19: 0.008640471063891916,\n",
       " 2: 0.0005763956613445939,\n",
       " 20: 0.017638257970617546,\n",
       " 21: 0.002207951859421836,\n",
       " 22: 0.000687091522571601,\n",
       " 23: 0.03960002124911093,\n",
       " 24: 0.00624230305403988,\n",
       " 3: 0.006628843999510171,\n",
       " 4: 0.002207951859421836,\n",
       " 5: 0.0008563381619116215,\n",
       " 6: 0.0008049075549189744,\n",
       " 7: 0.057538917986120146,\n",
       " 8: 0.001435756058631026,\n",
       " 9: 0.004031837519016956,\n",
       " 120: 0.0005919700809628333,\n",
       " 121: 0.0057962894806967424,\n",
       " 122: 0.009338368742625251,\n",
       " 123: 0.00712743976648565,\n",
       " 124: 0.0029765031418601184,\n",
       " 125: 0.01766588737089527,\n",
       " 67: 0.15105615373941586,\n",
       " 130: 0.005193766161005843,\n",
       " 145: 1.2725757960400039e-05,\n",
       " 146: 5.5010340672829014e-05,\n",
       " 147: 1.2725757960400039e-05,\n",
       " 148: 0.004881208142758188,\n",
       " 149: 0.012402325183745878,\n",
       " 150: 0.004426064687260788,\n",
       " 157: 0.0005017394062510946,\n",
       " 159: 0.0017035923974873586,\n",
       " 160: 0.0005728360900287577,\n",
       " 101: 0.018312688240963146,\n",
       " 112: 0.005816535315875974,\n",
       " 128: 0.006005038768069011,\n",
       " 133: 0.018555259541818817,\n",
       " 137: 0.011374738880952582,\n",
       " 152: 0.0019093114987448281,\n",
       " 164: 0.0023850363060827985,\n",
       " 165: 0.002769789552153197,\n",
       " 166: 0.002802898369365297,\n",
       " 167: 0.002802898369365297,\n",
       " 168: 0.0012169318089026364,\n",
       " 169: 0.0005262947066316097,\n",
       " 170: 0.0003405179588997786,\n",
       " 171: 0.00031832624085177604,\n",
       " 172: 0.0011645728103829532,\n",
       " 173: 0.001302579499576553,\n",
       " 174: 0.001528381961707541,\n",
       " 177: 7.235532170372999e-05,\n",
       " 178: 7.235532170372999e-05,\n",
       " 179: 0.0003963548794022925,\n",
       " 153: 0.0025177915715581417,\n",
       " 155: 0.006784798547637898,\n",
       " 100: 0.004687096228751044,\n",
       " 102: 0.0019379659446330767,\n",
       " 103: 0.0010237534758825238,\n",
       " 104: 0.0006828266079297171,\n",
       " 105: 0.0018566237335255894,\n",
       " 106: 0.000407164174999943,\n",
       " 107: 0.00039465590146677703,\n",
       " 108: 0.0005591297561046531,\n",
       " 109: 0.012984063972355672,\n",
       " 110: 0.0025891524001932275,\n",
       " 111: 0.009358892068401762,\n",
       " 116: 0.00039465590146677703,\n",
       " 117: 0.01654050936611253,\n",
       " 118: 0.00045592986210759104,\n",
       " 119: 0.008458117429426728,\n",
       " 127: 0.00032887834602821363,\n",
       " 138: 0.0005416422597553545,\n",
       " 139: 0.013851625853220221,\n",
       " 140: 0.0005789388248558357,\n",
       " 154: 0.014179236592467795,\n",
       " 191: 9.274702923994354e-06,\n",
       " 26: 0.002260757682448443,\n",
       " 27: 0.01120601445771569,\n",
       " 28: 0.00936329192644748,\n",
       " 48: 0.0016123760944147226,\n",
       " 54: 0.0062553321297301396,\n",
       " 55: 0.0038093970844398366,\n",
       " 74: 0.011374628427755508,\n",
       " 75: 0.005945840434360903,\n",
       " 76: 0.003308302461856104,\n",
       " 80: 0.00905524257728547,\n",
       " 81: 0.0008273713832375343,\n",
       " 83: 0.0006992723489384351,\n",
       " 84: 0.008201689217460853,\n",
       " 85: 0.0003310888173032833,\n",
       " 86: 0.0009860814369083094,\n",
       " 87: 0.0023939965959192226,\n",
       " 89: 0.01008318590482928,\n",
       " 90: 0.02573238492400172,\n",
       " 92: 3.3310006769746525e-05,\n",
       " 93: 0.02758017663396512,\n",
       " 95: 0.0004045150491192742,\n",
       " 96: 0.00031380241771204585,\n",
       " 97: 0.008833542365260804,\n",
       " 98: 0.0008597226887160094,\n",
       " 91: 0.008281404255369908,\n",
       " 94: 0.0010415760581201576,\n",
       " 134: 0.001781314824385857,\n",
       " 192: 0.0005186399784800823,\n",
       " 114: 0.015871994945148103,\n",
       " 158: 0.0,\n",
       " 88: 0.003984958856621171,\n",
       " 187: 0.00019264806063973286,\n",
       " 188: 0.0,\n",
       " 189: 0.0006352314937369708,\n",
       " 56: 0.010318533384468018,\n",
       " 135: 0.00112257631832279,\n",
       " 176: 0.0019989137942390245,\n",
       " 193: 0.001129598812878387,\n",
       " 126: 0.0029688681379886764,\n",
       " 131: 0.010054446908166958,\n",
       " 132: 0.002439693275707151,\n",
       " 31: 0.06829206963519824,\n",
       " 25: 0.0,\n",
       " 115: 0.010237682997894786,\n",
       " 144: 0.0,\n",
       " 62: 0.02802724501869409,\n",
       " 113: 0.0003688749525291247,\n",
       " 35: 0.02723802969158408,\n",
       " 70: 0.04517867657801444,\n",
       " 29: 0.0,\n",
       " 30: 0.028316907207527057,\n",
       " 32: 0.039381158328549715,\n",
       " 33: 0.01469472152076343,\n",
       " 143: 0.0002549581592366219,\n",
       " 78: 0.004669330101037636,\n",
       " 79: 0.005672422486648858,\n",
       " 141: 0.000557138291918342,\n",
       " 142: 6.112116366902781e-05,\n",
       " 161: 0.00015515574830557243,\n",
       " 180: 0.0015922736383276565,\n",
       " 183: 0.00041832415618814247,\n",
       " 184: 0.00041832415618814247,\n",
       " 34: 0.00023492142066375702,\n",
       " 36: 0.004148971995121466,\n",
       " 37: 0.002203383420505299,\n",
       " 42: 0.005160961066341171,\n",
       " 50: 2.0826110747568187e-05,\n",
       " 51: 0.00092648936316921,\n",
       " 52: 0.0019462552088670545,\n",
       " 53: 0.001872823017473281,\n",
       " 58: 0.0002912960332205096,\n",
       " 60: 0.008711298493728772,\n",
       " 61: 0.013787333747417823,\n",
       " 64: 0.00014814287568537426,\n",
       " 65: 0.00033581962019962685,\n",
       " 66: 0.0062238966996352755,\n",
       " 68: 0.002918196004976794,\n",
       " 69: 0.0006339239537982498,\n",
       " 72: 0.0023508590915022123,\n",
       " 156: 0.0008980818798077673,\n",
       " 181: 0.0007302752734722028,\n",
       " 190: 0.0002581352958045422,\n",
       " 196: 0.0,\n",
       " 38: 0.0026352994295705742,\n",
       " 39: 0.00016028466832078712,\n",
       " 40: 9.981197453309636e-05,\n",
       " 41: 0.005105901377126214,\n",
       " 43: 0.0008987983536646242,\n",
       " 44: 0.00040226109438616653,\n",
       " 45: 0.0004723820960820867,\n",
       " 46: 0.0018845934934529401,\n",
       " 47: 0.02955084339740044,\n",
       " 57: 0.0004928925239401196,\n",
       " 59: 0.0012905065998143343,\n",
       " 63: 0.0007321459548357283,\n",
       " 71: 0.013308917464187714,\n",
       " 73: 0.0013488557270022745,\n",
       " 49: 0.0,\n",
       " 185: 0.0,\n",
       " 186: 0.0,\n",
       " 129: 0.002627389345261864,\n",
       " 136: 0.0035171072881720594,\n",
       " 82: 0.004817607721022666,\n",
       " 99: 0.0,\n",
       " 151: 5.524687573772908e-05,\n",
       " 194: 0.00027490072645131795,\n",
       " 197: 0.0,\n",
       " 182: 0.0019049229460079207,\n",
       " 77: 0.0,\n",
       " 163: 0.01015228426395939,\n",
       " 198: 0.0,\n",
       " 175: 0.01015228426395939,\n",
       " 162: 0.0,\n",
       " 195: 0.0}"
      ]
     },
     "execution_count": 44,
     "metadata": {},
     "output_type": "execute_result"
    }
   ],
   "source": [
    "nx.betweenness_centrality(g)"
   ]
  },
  {
   "cell_type": "code",
   "execution_count": 45,
   "metadata": {},
   "outputs": [
    {
     "data": {
      "text/plain": [
       "array([[1.       , 0.6908592],\n",
       "       [0.6908592, 1.       ]])"
      ]
     },
     "execution_count": 45,
     "metadata": {},
     "output_type": "execute_result"
    }
   ],
   "source": [
    "dc = np.array(list(nx.degree_centrality(g).values()))\n",
    "pr = np.array(list(nx.pagerank(g).values()))\n",
    "bc = np.array(list(nx.betweenness_centrality(g).values()))\n",
    "np.corrcoef(pr, bc)"
   ]
  },
  {
   "cell_type": "markdown",
   "metadata": {},
   "source": [
    "## Attributes and Weighted Graphs"
   ]
  },
  {
   "cell_type": "code",
   "execution_count": 46,
   "metadata": {},
   "outputs": [],
   "source": [
    "g = nx.Graph()\n",
    "g.add_edges_from([[1,2], \n",
    "                 [2,3],\n",
    "                 [2,4],\n",
    "                 [1,5],\n",
    "                 [3,5],\n",
    "                 [4,5]])"
   ]
  },
  {
   "cell_type": "code",
   "execution_count": 47,
   "metadata": {},
   "outputs": [
    {
     "data": {
      "image/png": "[encoded data removed]",
      "text/plain": [
       "<Figure size 144x144 with 1 Axes>"
      ]
     },
     "metadata": {},
     "output_type": "display_data"
    }
   ],
   "source": [
    "plt.figure(figsize = (2, 2))\n",
    "nx.draw_circular(g, with_labels = True)\n",
    "plt.show()"
   ]
  },
  {
   "cell_type": "code",
   "execution_count": 48,
   "metadata": {},
   "outputs": [
    {
     "data": {
      "text/plain": [
       "{}"
      ]
     },
     "execution_count": 48,
     "metadata": {},
     "output_type": "execute_result"
    }
   ],
   "source": [
    "g[1][2]"
   ]
  },
  {
   "cell_type": "code",
   "execution_count": 49,
   "metadata": {},
   "outputs": [],
   "source": [
    "g[1][2][\"weight\"] = 2\n",
    "g[2][3][\"weight\"] = 4\n",
    "g[2][4][\"weight\"] = 3\n",
    "g[1][5][\"weight\"] = 5\n",
    "g[3][5][\"weight\"] = 2\n",
    "g[4][5][\"weight\"] = 4\n"
   ]
  },
  {
   "cell_type": "code",
   "execution_count": 50,
   "metadata": {},
   "outputs": [
    {
     "data": {
      "text/plain": [
       "5"
      ]
     },
     "execution_count": 50,
     "metadata": {},
     "output_type": "execute_result"
    }
   ],
   "source": [
    "nx.dijkstra_path_length (g, 1, 4, weight=\"weight\")"
   ]
  },
  {
   "cell_type": "code",
   "execution_count": 51,
   "metadata": {},
   "outputs": [
    {
     "data": {
      "text/plain": [
       "{'weight': 2}"
      ]
     },
     "execution_count": 51,
     "metadata": {},
     "output_type": "execute_result"
    }
   ],
   "source": [
    "g[1][2]"
   ]
  },
  {
   "cell_type": "markdown",
   "metadata": {},
   "source": [
    "## Coloring"
   ]
  },
  {
   "cell_type": "code",
   "execution_count": 52,
   "metadata": {},
   "outputs": [
    {
     "data": {
      "text/plain": [
       "{2: 0, 5: 0, 1: 1, 3: 1, 4: 1}"
      ]
     },
     "execution_count": 52,
     "metadata": {},
     "output_type": "execute_result"
    }
   ],
   "source": [
    "c = nx.greedy_color(g)\n",
    "c"
   ]
  },
  {
   "cell_type": "code",
   "execution_count": 53,
   "metadata": {},
   "outputs": [
    {
     "data": {
      "text/plain": [
       "NodeView((1, 2, 3, 4, 5))"
      ]
     },
     "execution_count": 53,
     "metadata": {},
     "output_type": "execute_result"
    }
   ],
   "source": [
    "g.nodes()"
   ]
  },
  {
   "cell_type": "code",
   "execution_count": 54,
   "metadata": {},
   "outputs": [
    {
     "data": {
      "text/plain": [
       "['g', 'r', 'g', 'g', 'r']"
      ]
     },
     "execution_count": 54,
     "metadata": {},
     "output_type": "execute_result"
    }
   ],
   "source": [
    "colors = [\"r\", \"g\", \"b\", \"y\"]\n",
    "nc = [colors[c[x]] for x in g.nodes()]\n",
    "nc"
   ]
  },
  {
   "cell_type": "code",
   "execution_count": 55,
   "metadata": {},
   "outputs": [
    {
     "data": {
      "image/png": "[encoded data removed]",
      "text/plain": [
       "<Figure size 144x144 with 1 Axes>"
      ]
     },
     "metadata": {},
     "output_type": "display_data"
    }
   ],
   "source": [
    "plt.figure(figsize = (2, 2))\n",
    "nx.draw_circular(g, with_labels = True, node_color=nc)\n",
    "plt.show()"
   ]
  },
  {
   "cell_type": "code",
   "execution_count": 56,
   "metadata": {},
   "outputs": [
    {
     "data": {
      "text/plain": [
       "EdgeView([(1, 2), (1, 5), (1, 4), (2, 3), (2, 4), (3, 5), (4, 5)])"
      ]
     },
     "execution_count": 56,
     "metadata": {},
     "output_type": "execute_result"
    }
   ],
   "source": [
    "g.add_edge(1,4)\n",
    "g.edges()"
   ]
  },
  {
   "cell_type": "code",
   "execution_count": 57,
   "metadata": {},
   "outputs": [
    {
     "data": {
      "text/plain": [
       "['r', 'g', 'r', 'b', 'g']"
      ]
     },
     "execution_count": 57,
     "metadata": {},
     "output_type": "execute_result"
    }
   ],
   "source": [
    "c = nx.greedy_color(g)\n",
    "nc = [colors[c[x]] for x in g.nodes()]\n",
    "nc"
   ]
  },
  {
   "cell_type": "code",
   "execution_count": 58,
   "metadata": {},
   "outputs": [
    {
     "data": {
      "image/png": "[encoded data removed]",
      "text/plain": [
       "<Figure size 144x144 with 1 Axes>"
      ]
     },
     "metadata": {},
     "output_type": "display_data"
    }
   ],
   "source": [
    "plt.figure(figsize = (2, 2))\n",
    "nx.draw_circular(g, with_labels = True, node_color=nc)\n",
    "plt.show()"
   ]
  },
  {
   "cell_type": "markdown",
   "metadata": {},
   "source": [
    "## Directed Graps"
   ]
  },
  {
   "cell_type": "code",
   "execution_count": 59,
   "metadata": {},
   "outputs": [],
   "source": [
    "g = nx.DiGraph()"
   ]
  },
  {
   "cell_type": "code",
   "execution_count": 60,
   "metadata": {},
   "outputs": [
    {
     "data": {
      "text/plain": [
       "NodeView(())"
      ]
     },
     "execution_count": 60,
     "metadata": {},
     "output_type": "execute_result"
    }
   ],
   "source": [
    "g.nodes()"
   ]
  },
  {
   "cell_type": "code",
   "execution_count": 61,
   "metadata": {},
   "outputs": [],
   "source": [
    "g.add_edges_from([[1,3],[2,4], [4,1], [3,2],[4,3]])"
   ]
  },
  {
   "cell_type": "code",
   "execution_count": 62,
   "metadata": {},
   "outputs": [
    {
     "data": {
      "image/png": "[encoded data removed]",
      "text/plain": [
       "<Figure size 144x144 with 1 Axes>"
      ]
     },
     "metadata": {},
     "output_type": "display_data"
    }
   ],
   "source": [
    "plt.figure(figsize = (2, 2))\n",
    "nx.draw_circular(g, with_labels = True)\n",
    "plt.show()"
   ]
  },
  {
   "cell_type": "code",
   "execution_count": 63,
   "metadata": {},
   "outputs": [
    {
     "data": {
      "text/plain": [
       "[1, 3, 2, 4]"
      ]
     },
     "execution_count": 63,
     "metadata": {},
     "output_type": "execute_result"
    }
   ],
   "source": [
    "nx.shortest_path(g,1,4)"
   ]
  },
  {
   "cell_type": "code",
   "execution_count": 64,
   "metadata": {},
   "outputs": [
    {
     "data": {
      "text/plain": [
       "array([[0., 1., 0., 0.],\n",
       "       [0., 0., 1., 0.],\n",
       "       [0., 0., 0., 1.],\n",
       "       [1., 1., 0., 0.]])"
      ]
     },
     "execution_count": 64,
     "metadata": {},
     "output_type": "execute_result"
    }
   ],
   "source": [
    "nx.to_numpy_array(g)"
   ]
  },
  {
   "cell_type": "code",
   "execution_count": null,
   "metadata": {},
   "outputs": [],
   "source": []
  }
 ],
 "metadata": {
  "kernelspec": {
   "display_name": "Python 3",
   "language": "python",
   "name": "python3"
  },
  "language_info": {
   "codemirror_mode": {
    "name": "ipython",
    "version": 3
   },
   "file_extension": ".py",
   "mimetype": "text/x-python",
   "name": "python",
   "nbconvert_exporter": "python",
   "pygments_lexer": "ipython3",
   "version": "3.7.6"
  },
  "toc": {
   "colors": {
    "hover_highlight": "#DAA520",
    "navigate_num": "#000000",
    "navigate_text": "#333333",
    "running_highlight": "#FF0000",
    "selected_highlight": "#FFD700",
    "sidebar_border": "#EEEEEE",
    "wrapper_background": "#FFFFFF"
   },
   "moveMenuLeft": true,
   "nav_menu": {
    "height": "191px",
    "width": "252px"
   },
   "navigate_menu": true,
   "number_sections": true,
   "sideBar": true,
   "threshold": 4,
   "toc_cell": false,
   "toc_section_display": "block",
   "toc_window_display": false,
   "widenNotebook": false
  },
  "varInspector": {
   "cols": {
    "lenName": 16,
    "lenType": 16,
    "lenVar": 40
   },
   "kernels_config": {
    "python": {
     "delete_cmd_postfix": "",
     "delete_cmd_prefix": "del ",
     "library": "var_list.py",
     "varRefreshCmd": "print(var_dic_list())"
    },
    "r": {
     "delete_cmd_postfix": ") ",
     "delete_cmd_prefix": "rm(",
     "library": "var_list.r",
     "varRefreshCmd": "cat(var_dic_list()) "
    }
   },
   "types_to_exclude": [
    "module",
    "function",
    "builtin_function_or_method",
    "instance",
    "_Feature"
   ],
   "window_display": false
  }
 },
 "nbformat": 4,
 "nbformat_minor": 2
}
