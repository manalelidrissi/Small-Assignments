{
 "cells": [
  {
   "cell_type": "markdown",
   "metadata": {},
   "source": [
    "# Networkx"
   ]
  },
  {
   "cell_type": "markdown",
   "metadata": {},
   "source": [
    "# Zachary karate club"
   ]
  },
  {
   "cell_type": "markdown",
   "metadata": {},
   "source": [
    "The Zachary karate club network is a classic social network from a 70s study\n",
    "The network is even described in Wikipedia, where the data is given as:"
   ]
  },
  {
   "cell_type": "raw",
   "metadata": {},
   "source": [
    "[2 1]\n",
    "[3 1] [3 2]\n",
    "[4 1] [4 2] [4 3]\n",
    "[5 1]\n",
    "[6 1]\n",
    "[7 1] [7 5] [7 6]\n",
    "[8 1] [8 2] [8 3] [8 4]\n",
    "[9 1] [9 3]\n",
    "[10 3]\n",
    "[11 1] [11 5] [11 6]\n",
    "[12 1]\n",
    "[13 1] [13 4]\n",
    "[14 1] [14 2] [14 3] [14 4]\n",
    "[17 6] [17 7]\n",
    "[18 1] [18 2]\n",
    "[20 1] [20 2]\n",
    "[22 1] [22 2]\n",
    "[26 24] [26 25]\n",
    "[28 3] [28 24] [28 25]\n",
    "[29 3]\n",
    "[30 24] [30 27]\n",
    "[31 2] [31 9]\n",
    "[32 1] [32 25] [32 26] [32 29]\n",
    "[33 3] [33 9] [33 15] [33 16] [33 19] [33 21] [33 23] [33 24] [33 30] [33 31] [33 32]\n",
    "[34 9] [34 10] [34 14] [34 15] [34 16] [34 19] [34 20] [34 21] [34 23] [34 24] [34 27] [34 28] [34 29] [34 30] [34 31] [34 32] [34 33]"
   ]
  },
  {
   "cell_type": "raw",
   "metadata": {},
   "source": [
    "Here, each number identifies a member of the karate club, two integers in square brackets describe a friendship link between these members."
   ]
  },
  {
   "cell_type": "markdown",
   "metadata": {},
   "source": [
    "# Load the network into networkx (string transformation is necessary!)"
   ]
  },
  {
   "cell_type": "code",
   "execution_count": null,
   "metadata": {},
   "outputs": [],
   "source": []
  },
  {
   "cell_type": "markdown",
   "metadata": {},
   "source": [
    "# Plot the graph such that all nodes are on a circle"
   ]
  },
  {
   "cell_type": "code",
   "execution_count": null,
   "metadata": {},
   "outputs": [],
   "source": []
  },
  {
   "cell_type": "markdown",
   "metadata": {},
   "source": [
    "# What is the most central node in the network according to degree_centrality, pagerank, and betweeness_centrality?"
   ]
  },
  {
   "cell_type": "code",
   "execution_count": null,
   "metadata": {},
   "outputs": [],
   "source": []
  },
  {
   "cell_type": "markdown",
   "metadata": {},
   "source": [
    "# Plot the degree distribution as a histogram"
   ]
  },
  {
   "cell_type": "code",
   "execution_count": null,
   "metadata": {},
   "outputs": [],
   "source": []
  },
  {
   "cell_type": "markdown",
   "metadata": {},
   "source": [
    "# Country Neighborhood"
   ]
  },
  {
   "cell_type": "markdown",
   "metadata": {},
   "source": [
    "https://raw.githubusercontent.com/FnTm/country-neighbors/master/neighbors.json"
   ]
  },
  {
   "cell_type": "markdown",
   "metadata": {},
   "source": [
    "# What are the neighbors of the node china (\"CN\") in the graph?"
   ]
  },
  {
   "cell_type": "code",
   "execution_count": null,
   "metadata": {},
   "outputs": [],
   "source": []
  },
  {
   "cell_type": "markdown",
   "metadata": {},
   "source": [
    "# How many countries do you have at least to come through if you want to go from China (\"CN\") to Spain (\"ES\")?"
   ]
  },
  {
   "cell_type": "code",
   "execution_count": null,
   "metadata": {},
   "outputs": [],
   "source": []
  },
  {
   "cell_type": "code",
   "execution_count": null,
   "metadata": {},
   "outputs": [],
   "source": []
  },
  {
   "cell_type": "markdown",
   "metadata": {},
   "source": [
    "# Neural networks"
   ]
  },
  {
   "cell_type": "markdown",
   "metadata": {},
   "source": [
    "# Predicting activity from sensor data"
   ]
  },
  {
   "cell_type": "markdown",
   "metadata": {},
   "source": [
    "Consider the dataset in file 'sensorData.txt'. The dataset consists of data obtained from different sensors and you have to predict the acivity (e.g., cycling, walking etc) from the sensory data. Each line in the file is a datapoint with sensor data folowed by the class separated by ','. (6 data columns + 1 class(one of 6 classes) )"
   ]
  },
  {
   "cell_type": "markdown",
   "metadata": {},
   "source": [
    "# Read the dataset from the file and store it in a list."
   ]
  },
  {
   "cell_type": "code",
   "execution_count": null,
   "metadata": {},
   "outputs": [],
   "source": []
  },
  {
   "cell_type": "markdown",
   "metadata": {},
   "source": [
    "# Design a neural network with 2 hidden layers. First is of size 30 while the second is of size 20. "
   ]
  },
  {
   "cell_type": "code",
   "execution_count": null,
   "metadata": {},
   "outputs": [],
   "source": []
  },
  {
   "cell_type": "markdown",
   "metadata": {},
   "source": [
    "# Write a function to train the model with stochastic gradient descent (SGD) and learning rate 0.001."
   ]
  },
  {
   "cell_type": "code",
   "execution_count": null,
   "metadata": {},
   "outputs": [],
   "source": []
  },
  {
   "cell_type": "markdown",
   "metadata": {},
   "source": [
    "# Write a function to test the model with the trained model. the function should return accuracy score"
   ]
  },
  {
   "cell_type": "code",
   "execution_count": null,
   "metadata": {},
   "outputs": [],
   "source": []
  },
  {
   "cell_type": "markdown",
   "metadata": {},
   "source": [
    "# Create test and train set from the data. \n",
    "We will perform a 10-fold cross validation. Typically you need to divide the dataset into 10 (roughly) equal parts. At each iteration you will use one part as test and the rest nine parts for training. So you will train and test for 10 iterations and report the average accuracy score."
   ]
  },
  {
   "cell_type": "code",
   "execution_count": null,
   "metadata": {},
   "outputs": [],
   "source": []
  }
 ],
 "metadata": {
  "kernelspec": {
   "display_name": "Python 3",
   "language": "python",
   "name": "python3"
  },
  "language_info": {
   "codemirror_mode": {
    "name": "ipython",
    "version": 3
   },
   "file_extension": ".py",
   "mimetype": "text/x-python",
   "name": "python",
   "nbconvert_exporter": "python",
   "pygments_lexer": "ipython3",
   "version": "3.7.6"
  }
 },
 "nbformat": 4,
 "nbformat_minor": 2
}
